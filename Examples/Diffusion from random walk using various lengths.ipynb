{
 "cells": [
  {
   "cell_type": "markdown",
   "metadata": {},
   "source": [
    "# Identifying the diffusion equation from a random walk\n",
    "\n",
    "Samuel Rudy, 2016\n",
    "\n",
    "Here we take various lengths of a random walk where $x_{j+1} \\sim \\mathcal{N}(x_j, dt)$ and see if we can identify the diffusion equation.  As expected, it works better for longer series."
   ]
  },
  {
   "cell_type": "code",
   "execution_count": 1,
   "metadata": {},
   "outputs": [
    {
     "name": "stdout",
     "output_type": "stream",
     "text": [
      "Populating the interactive namespace from numpy and matplotlib\n"
     ]
    }
   ],
   "source": [
    "%pylab inline\n",
    "pylab.rcParams['figure.figsize'] = (12,6)\n",
    "import sys; sys.path.append('..')\n",
    "import numpy as np\n",
    "from PDE_FIND import *"
   ]
  },
  {
   "cell_type": "code",
   "execution_count": 35,
   "metadata": {
    "scrolled": false
   },
   "outputs": [
    {
     "name": "stdout",
     "output_type": "stream",
     "text": [
      "Trial: 1 of 10\n",
      "Length of time series used:  100\n",
      "u_t = (-118661227.874617 +0.000000i)u^3\n",
      "   \n",
      "Length of time series used:  146\n",
      "u_t = (-103764608.642134 +0.000000i)u^3\n",
      "   \n"
     ]
    },
    {
     "ename": "ValueError",
     "evalue": "operands could not be broadcast together with shapes (85,5) (87,5) ",
     "output_type": "error",
     "traceback": [
      "\u001b[1;31m---------------------------------------------------------------------------\u001b[0m",
      "\u001b[1;31mValueError\u001b[0m                                Traceback (most recent call last)",
      "\u001b[1;32m<ipython-input-35-1fd0d3d4bc3a>\u001b[0m in \u001b[0;36m<module>\u001b[1;34m\u001b[0m\n\u001b[0;32m     52\u001b[0m             \u001b[0mU\u001b[0m\u001b[1;33m[\u001b[0m\u001b[1;33m:\u001b[0m\u001b[1;33m,\u001b[0m\u001b[0mi\u001b[0m\u001b[1;33m]\u001b[0m \u001b[1;33m=\u001b[0m \u001b[0mnp\u001b[0m\u001b[1;33m.\u001b[0m\u001b[0mhistogram\u001b[0m\u001b[1;33m(\u001b[0m\u001b[0mP\u001b[0m\u001b[1;33m[\u001b[0m\u001b[0mi\u001b[0m\u001b[1;33m]\u001b[0m\u001b[1;33m,\u001b[0m\u001b[0mbins\u001b[0m\u001b[1;33m)\u001b[0m\u001b[1;33m[\u001b[0m\u001b[1;36m0\u001b[0m\u001b[1;33m]\u001b[0m\u001b[1;33m/\u001b[0m\u001b[0mfloat\u001b[0m\u001b[1;33m(\u001b[0m\u001b[0mdx\u001b[0m\u001b[1;33m*\u001b[0m\u001b[1;33m(\u001b[0m\u001b[0mlen\u001b[0m\u001b[1;33m(\u001b[0m\u001b[0mpos\u001b[0m\u001b[1;33m)\u001b[0m\u001b[1;33m-\u001b[0m\u001b[0mm\u001b[0m\u001b[1;33m)\u001b[0m\u001b[1;33m)\u001b[0m\u001b[1;33m\u001b[0m\u001b[1;33m\u001b[0m\u001b[0m\n\u001b[0;32m     53\u001b[0m \u001b[1;33m\u001b[0m\u001b[0m\n\u001b[1;32m---> 54\u001b[1;33m         \u001b[0mUt\u001b[0m\u001b[1;33m,\u001b[0m\u001b[0mR\u001b[0m\u001b[1;33m,\u001b[0m\u001b[0mrhs_des\u001b[0m \u001b[1;33m=\u001b[0m \u001b[0mbuild_linear_system\u001b[0m\u001b[1;33m(\u001b[0m\u001b[0mU\u001b[0m\u001b[1;33m,\u001b[0m \u001b[0mdt\u001b[0m\u001b[1;33m,\u001b[0m \u001b[0mdx\u001b[0m\u001b[1;33m,\u001b[0m \u001b[0mD\u001b[0m\u001b[1;33m=\u001b[0m\u001b[1;36m3\u001b[0m\u001b[1;33m,\u001b[0m \u001b[0mP\u001b[0m\u001b[1;33m=\u001b[0m\u001b[1;36m3\u001b[0m\u001b[1;33m,\u001b[0m \u001b[0mtime_diff\u001b[0m \u001b[1;33m=\u001b[0m \u001b[1;34m'FD'\u001b[0m\u001b[1;33m,\u001b[0m \u001b[0mdeg_x\u001b[0m \u001b[1;33m=\u001b[0m \u001b[1;36m5\u001b[0m\u001b[1;33m,\u001b[0m \u001b[0mwidth_x\u001b[0m \u001b[1;33m=\u001b[0m \u001b[0mnp\u001b[0m\u001b[1;33m.\u001b[0m\u001b[0mmax\u001b[0m\u001b[1;33m(\u001b[0m\u001b[1;33m[\u001b[0m\u001b[1;36m10\u001b[0m\u001b[1;33m,\u001b[0m\u001b[0mn\u001b[0m\u001b[1;33m/\u001b[0m\u001b[1;36m10\u001b[0m\u001b[1;33m]\u001b[0m\u001b[1;33m)\u001b[0m\u001b[1;33m)\u001b[0m\u001b[1;33m\u001b[0m\u001b[1;33m\u001b[0m\u001b[0m\n\u001b[0m\u001b[0;32m     55\u001b[0m         \u001b[0mlam\u001b[0m \u001b[1;33m=\u001b[0m \u001b[1;36m10\u001b[0m\u001b[1;33m**\u001b[0m\u001b[1;33m-\u001b[0m\u001b[1;36m3\u001b[0m\u001b[1;33m*\u001b[0m\u001b[0mlength\u001b[0m\u001b[1;33m\u001b[0m\u001b[1;33m\u001b[0m\u001b[0m\n\u001b[0;32m     56\u001b[0m         \u001b[0md_tol_2\u001b[0m \u001b[1;33m=\u001b[0m \u001b[1;36m0.001\u001b[0m\u001b[1;33m/\u001b[0m\u001b[0mdx\u001b[0m\u001b[1;33m\u001b[0m\u001b[1;33m\u001b[0m\u001b[0m\n",
      "\u001b[1;32mD:\\source\\repos\\pde-find\\PDE_FIND.py\u001b[0m in \u001b[0;36mbuild_linear_system\u001b[1;34m(u, dt, dx, D, P, time_diff, space_diff, lam_t, lam_x, width_x, width_t, deg_x, deg_t, sigma)\u001b[0m\n\u001b[0;32m    384\u001b[0m \u001b[1;33m\u001b[0m\u001b[0m\n\u001b[0;32m    385\u001b[0m         \u001b[1;32mfor\u001b[0m \u001b[0mp\u001b[0m \u001b[1;32min\u001b[0m \u001b[0mrange\u001b[0m\u001b[1;33m(\u001b[0m\u001b[0mP\u001b[0m\u001b[1;33m+\u001b[0m\u001b[1;36m1\u001b[0m\u001b[1;33m)\u001b[0m\u001b[1;33m:\u001b[0m\u001b[1;33m\u001b[0m\u001b[1;33m\u001b[0m\u001b[0m\n\u001b[1;32m--> 386\u001b[1;33m             \u001b[0mTheta\u001b[0m\u001b[1;33m[\u001b[0m\u001b[1;33m:\u001b[0m\u001b[1;33m,\u001b[0m \u001b[0md\u001b[0m\u001b[1;33m*\u001b[0m\u001b[1;33m(\u001b[0m\u001b[0mP\u001b[0m\u001b[1;33m+\u001b[0m\u001b[1;36m1\u001b[0m\u001b[1;33m)\u001b[0m\u001b[1;33m+\u001b[0m\u001b[0mp\u001b[0m\u001b[1;33m]\u001b[0m \u001b[1;33m=\u001b[0m \u001b[0mnp\u001b[0m\u001b[1;33m.\u001b[0m\u001b[0mreshape\u001b[0m\u001b[1;33m(\u001b[0m\u001b[0mnp\u001b[0m\u001b[1;33m.\u001b[0m\u001b[0mmultiply\u001b[0m\u001b[1;33m(\u001b[0m\u001b[0mux\u001b[0m\u001b[1;33m,\u001b[0m \u001b[0mnp\u001b[0m\u001b[1;33m.\u001b[0m\u001b[0mpower\u001b[0m\u001b[1;33m(\u001b[0m\u001b[0mu2\u001b[0m\u001b[1;33m,\u001b[0m\u001b[0mp\u001b[0m\u001b[1;33m)\u001b[0m\u001b[1;33m)\u001b[0m\u001b[1;33m,\u001b[0m \u001b[1;33m(\u001b[0m\u001b[0mn2\u001b[0m\u001b[1;33m*\u001b[0m\u001b[0mm2\u001b[0m\u001b[1;33m)\u001b[0m\u001b[1;33m,\u001b[0m \u001b[0morder\u001b[0m\u001b[1;33m=\u001b[0m\u001b[1;34m'F'\u001b[0m\u001b[1;33m)\u001b[0m\u001b[1;33m\u001b[0m\u001b[1;33m\u001b[0m\u001b[0m\n\u001b[0m\u001b[0;32m    387\u001b[0m \u001b[1;33m\u001b[0m\u001b[0m\n\u001b[0;32m    388\u001b[0m             \u001b[1;32mif\u001b[0m \u001b[0mp\u001b[0m \u001b[1;33m==\u001b[0m \u001b[1;36m1\u001b[0m\u001b[1;33m:\u001b[0m \u001b[0mrhs_description\u001b[0m\u001b[1;33m[\u001b[0m\u001b[0md\u001b[0m\u001b[1;33m*\u001b[0m\u001b[1;33m(\u001b[0m\u001b[0mP\u001b[0m\u001b[1;33m+\u001b[0m\u001b[1;36m1\u001b[0m\u001b[1;33m)\u001b[0m\u001b[1;33m+\u001b[0m\u001b[0mp\u001b[0m\u001b[1;33m]\u001b[0m \u001b[1;33m=\u001b[0m \u001b[0mrhs_description\u001b[0m\u001b[1;33m[\u001b[0m\u001b[0md\u001b[0m\u001b[1;33m*\u001b[0m\u001b[1;33m(\u001b[0m\u001b[0mP\u001b[0m\u001b[1;33m+\u001b[0m\u001b[1;36m1\u001b[0m\u001b[1;33m)\u001b[0m\u001b[1;33m+\u001b[0m\u001b[0mp\u001b[0m\u001b[1;33m]\u001b[0m\u001b[1;33m+\u001b[0m\u001b[1;34m'u'\u001b[0m\u001b[1;33m\u001b[0m\u001b[1;33m\u001b[0m\u001b[0m\n",
      "\u001b[1;31mValueError\u001b[0m: operands could not be broadcast together with shapes (85,5) (87,5) "
     ]
    }
   ],
   "source": [
    "# set seed = 0\n",
    "numpy.random.seed(0)\n",
    "\n",
    "N = 24\n",
    "lengths = np.array([int(10**j) for j in 2+np.arange(N+1)*4.0/N])\n",
    "# lengths[lengths%2!=0] -= 1\n",
    "# lengths = np.array([2**j for j in range(7, 24)])\n",
    "err = {}\n",
    "for l in range(N+1): err[l] = []\n",
    "sparsity_err = np.zeros(len(lengths))\n",
    "trials = 10\n",
    "w_true = np.zeros((16,1))\n",
    "w_true[8] = 0.5\n",
    "\n",
    "for trial in range(trials):\n",
    "    \n",
    "    print(\"Trial:\", trial+1, \"of\", trials)\n",
    "    \n",
    "    # generate a new time series\n",
    "    dt = 0.01\n",
    "    advection = 0 # it has some trouble with advection\n",
    "    pos = np.cumsum(np.sqrt(dt)*np.random.randn(lengths[-1])) + dt*advection*np.arange(lengths[-1])\n",
    "\n",
    "    # fit various lengths of it to a pde\n",
    "    for l in range(len(lengths)):\n",
    "\n",
    "        length = lengths[l]\n",
    "        P = {}\n",
    "        M = 0\n",
    "        m = 5\n",
    "        \n",
    "        # More bins for longer time series.  We just need to make sure there aren't too many bins for how many points we have\n",
    "        n = int(20*log(length))\n",
    "        for j in range(m): P[j] = []\n",
    "\n",
    "        for i in range(length-m):\n",
    "\n",
    "            # center\n",
    "            y = pos[i+1:i+m+1] - pos[i]\n",
    "            M = max([M, max(abs(y))])\n",
    "\n",
    "            # add to distribution\n",
    "            for j in range(m):\n",
    "                P[j].append(y[j])\n",
    "\n",
    "        bins = np.linspace(-M,M,n+1)\n",
    "        x = linspace(M*(1/n-1),M*(1-1/n),n)\n",
    "        dx = x[2]-x[1]\n",
    "        \n",
    "        U = np.zeros((n,m))\n",
    "        for i in range(m):\n",
    "            U[:,i] = np.histogram(P[i],bins)[0]/float(dx*(len(pos)-m))\n",
    "\n",
    "        Ut,R,rhs_des = build_linear_system(U, dt, dx, D=3, P=3, time_diff = 'FD', deg_x = 5, width_x = np.max([10,n/10]))\n",
    "        lam = 10**-3*length\n",
    "        d_tol_2 = 0.001/dx\n",
    "        d_tol_0 = 0.001/dx\n",
    "        \n",
    "        # Try two different normalizations and see which one performs better.  They should get the same answer for most of \n",
    "        # the longer runs.\n",
    "        split = 0.8\n",
    "        N = len(Ut)\n",
    "        train = np.random.choice(N, int(N*split), replace = False)\n",
    "        test = [i for i in np.arange(N) if i not in train]\n",
    "        \n",
    "        w2 = TrainSTRidge(R[train,:], Ut[train], lam, d_tol_2, normalize = 2)\n",
    "        w0 = TrainSTRidge(R[train,:], Ut[train], lam, d_tol_0, normalize = 0)\n",
    "                \n",
    "        err2 = np.linalg.norm(Ut[test] - R[test,:].dot(w2)) + 0.01*np.linalg.norm(Ut[test], 2)*np.count_nonzero(w2)\n",
    "        err0 = np.linalg.norm(Ut[test] - R[test,:].dot(w0)) + 0.01*np.linalg.norm(Ut[test], 2)*np.count_nonzero(w0)\n",
    "        \n",
    "        w = [w0,w2]\n",
    "        error = [err0,err2]\n",
    "        method = argmin(error)\n",
    "        w_r = w[method]\n",
    "        err[l].append(np.linalg.norm(w_r - w_true, 1))\n",
    "\n",
    "        if trial == 0:\n",
    "            print(\"Length of time series used: \", length)\n",
    "#             print \"Condition Number: \", cond(R)\n",
    "#             print \"Regularization: \", ['unregularized','2 norm'][method] \n",
    "            print_pde(w_r, rhs_des)\n",
    "        \n",
    "        w_r = np.array(w_r)\n",
    "        sparsity_err[l] += float(len(np.where(w_r[0:5] != 0)[0]) + len(np.where(w_r[7:8] != 0)[0]) + int(w_r[6] == 0))/trials\n",
    "        \n",
    "# print err\n",
    "# print sparsity_err"
   ]
  },
  {
   "cell_type": "code",
   "execution_count": null,
   "metadata": {},
   "outputs": [],
   "source": [
    "# pylab.rcParams['figure.figsize'] = (3.5,1.7)\n",
    "err2 = [np.mean(j) for _,j in err.items()]\n",
    "min_len = np.max(np.where(np.array(err2) >= 0.5))+1\n",
    "\n",
    "loglog(lengths[0:min_len], err2[0:min_len], 'x', color = 'r', mew=2, ms=5)\n",
    "loglog(lengths[min_len:], err2[min_len:], 'o', color = 'b', ms = 5)\n",
    "yticks([10**-3,10**-1,10**1,10**3,10**5, 10**7, 10**9], fontsize = 12)\n",
    "xticks([10**3,10**5], fontsize = 12)\n",
    "\n",
    "pareto_front = lengths[min_len]/10**(1.0/12)\n",
    "axvspan(100,pareto_front, alpha=0.3, color='gray')\n",
    "xlabel('Length of Time series', fontsize = 16)\n",
    "ylabel(r'Average $\\ell^1$ parameter error', fontsize = 16)\n",
    "title('Parameter error for diffusion equation', fontsize = 20)"
   ]
  },
  {
   "cell_type": "code",
   "execution_count": null,
   "metadata": {},
   "outputs": [],
   "source": []
  }
 ],
 "metadata": {
  "anaconda-cloud": {},
  "kernelspec": {
   "display_name": "Python 3",
   "language": "python",
   "name": "python3"
  },
  "language_info": {
   "codemirror_mode": {
    "name": "ipython",
    "version": 3
   },
   "file_extension": ".py",
   "mimetype": "text/x-python",
   "name": "python",
   "nbconvert_exporter": "python",
   "pygments_lexer": "ipython3",
   "version": "3.7.9"
  }
 },
 "nbformat": 4,
 "nbformat_minor": 1
}
